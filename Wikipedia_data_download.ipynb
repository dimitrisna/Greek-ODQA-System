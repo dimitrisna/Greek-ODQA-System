{
  "nbformat": 4,
  "nbformat_minor": 0,
  "metadata": {
    "colab": {
      "name": "Wikipedia_data_download.ipynb",
      "provenance": [],
      "collapsed_sections": []
    },
    "kernelspec": {
      "name": "python3",
      "display_name": "Python 3"
    },
    "language_info": {
      "name": "python"
    }
  },
  "cells": [
    {
      "cell_type": "markdown",
      "source": [
        "## Wikipedia Dump\n",
        "Download and preprocessing of Wikipedia Dump for installing it in a DocumentStore."
      ],
      "metadata": {
        "id": "eK4wFLpP_5fv"
      }
    },
    {
      "cell_type": "code",
      "execution_count": null,
      "metadata": {
        "id": "Gl_vJC2o_4qQ"
      },
      "outputs": [],
      "source": [
        "!wget https://dumps.wikimedia.org/elwiki/latest/elwiki-latest-pages-articles-multistream.xml.bz2"
      ]
    },
    {
      "cell_type": "code",
      "source": [
        "!pip install wikiextractor"
      ],
      "metadata": {
        "id": "8yYamTXXAbfQ"
      },
      "execution_count": null,
      "outputs": []
    },
    {
      "cell_type": "code",
      "source": [
        "!wikiextractor -o ./wkdb -b 20G --json elwiki-latest-pages-articles-multistream.xml.bz2"
      ],
      "metadata": {
        "id": "KBOr41oXAfj4"
      },
      "execution_count": null,
      "outputs": []
    },
    {
      "cell_type": "code",
      "source": [
        "mv ./wkdb/AA/wiki_00 ."
      ],
      "metadata": {
        "id": "xHQmp_VACSFN"
      },
      "execution_count": null,
      "outputs": []
    },
    {
      "cell_type": "markdown",
      "source": [
        "Using the wiki.py script for preprocessing of the Wikipedia data. The "
      ],
      "metadata": {
        "id": "zEj-SMCLAvSC"
      }
    },
    {
      "cell_type": "code",
      "source": [
        "!python wiki.py"
      ],
      "metadata": {
        "id": "0sf4Mq3hAgBo"
      },
      "execution_count": null,
      "outputs": []
    },
    {
      "cell_type": "markdown",
      "source": [
        "The file wiki_dataset.json can be used for writing the Wikipedia documents in the document store."
      ],
      "metadata": {
        "id": "D5uxPVgACU3N"
      }
    }
  ]
}